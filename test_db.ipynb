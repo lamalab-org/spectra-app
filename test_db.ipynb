{
 "cells": [
  {
   "cell_type": "code",
   "execution_count": null,
   "metadata": {},
   "outputs": [],
   "source": [
    "def see_db():\n",
    "    import sqlite3\n",
    "    conn = sqlite3.connect('quiz_results.db')\n",
    "    c = conn.cursor()\n",
    "    c.execute('SELECT * FROM stocks')\n",
    "    print(c.fetchall())\n",
    "    conn.close()\n"
   ]
  }
 ],
 "metadata": {
  "language_info": {
   "name": "python"
  }
 },
 "nbformat": 4,
 "nbformat_minor": 2
}
